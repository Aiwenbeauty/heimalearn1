{
 "cells": [
  {
   "cell_type": "markdown",
   "id": "0d77d654",
   "metadata": {},
   "source": [
    "# 数据处理"
   ]
  },
  {
   "cell_type": "markdown",
   "id": "6be5caec",
   "metadata": {},
   "source": [
    "### Numpy"
   ]
  },
  {
   "cell_type": "code",
   "execution_count": 21,
   "id": "f95211ef",
   "metadata": {},
   "outputs": [
    {
     "name": "stdout",
     "output_type": "stream",
     "text": [
      "[1 2 3]\n",
      "<class 'numpy.ndarray'>\n",
      "[0 1 2 3 4 5 6 7 8 9]\n",
      "[0 1 2 3 4 5 6 7 8 9]\n",
      "int32\n",
      "****************************************************************************************************\n",
      "[1. 2. 3. 4. 5. 6. 7.]\n",
      "float64\n",
      "uint16\n",
      "bool\n",
      "[ True False  True False  True  True False  True False False]\n",
      "[1 0 1 0 1 1 0 1 0 0]\n",
      "int8\n",
      "[0.48781418 0.80940379 0.58310572 0.25632985 0.14667283 0.12839979\n",
      " 0.14608716 0.28792674 0.18626685 0.65760018]\n",
      "float64\n",
      "[0.49 0.81 0.58 0.26 0.15 0.13 0.15 0.29 0.19 0.66]\n"
     ]
    }
   ],
   "source": [
    "import numpy as np\n",
    "import random\n",
    "\n",
    "# 使用numpy生成数组\n",
    "t1 = np.array([1,2,3])\n",
    "print(t1)\n",
    "print(type(t1))\n",
    "\n",
    "t2 = np.array(range(10))\n",
    "print(t2)\n",
    "\n",
    "t3 = np.arange(10)\n",
    "print(t3)\n",
    "print(t3.dtype)\n",
    "\n",
    "t4 = np.arange(2,8,2)\n",
    "t4\n",
    "# print(t4)\n",
    "\n",
    "print('*'*100)\n",
    "\n",
    "# numpy中的数据类型\n",
    "\n",
    "t5 = np.array(range(1,8),dtype=float)\n",
    "print(t5)\n",
    "print(t5.dtype)\n",
    "\n",
    "t5 = np.array(range(1,8),dtype=\"u2\")\n",
    "print(t5.dtype)\n",
    "\n",
    "# numpy中的bool类型\n",
    "t6 = np.array([1,0,1,0,1,1,0,1,0,0],dtype=bool)\n",
    "print(t6.dtype)\n",
    "print(t6)\n",
    "\n",
    "\n",
    "# 调整数据类型\n",
    "t7 = t6.astype(np.int8)\n",
    "print(t7)\n",
    "print(t7.dtype)\n",
    "\n",
    "# 小数\n",
    "t8 = np.array([random.random() for i in range(10)])\n",
    "print(t8)\n",
    "print(t8.dtype)\n",
    "\n",
    "# 取两位小数\n",
    "t9 = np.round(t8,2)\n",
    "print(t9)\n"
   ]
  },
  {
   "cell_type": "code",
   "execution_count": null,
   "id": "c2881bb9",
   "metadata": {},
   "outputs": [],
   "source": []
  }
 ],
 "metadata": {
  "kernelspec": {
   "display_name": "Python 3",
   "language": "python",
   "name": "python3"
  },
  "language_info": {
   "codemirror_mode": {
    "name": "ipython",
    "version": 3
   },
   "file_extension": ".py",
   "mimetype": "text/x-python",
   "name": "python",
   "nbconvert_exporter": "python",
   "pygments_lexer": "ipython3",
   "version": "3.8.8"
  }
 },
 "nbformat": 4,
 "nbformat_minor": 5
}
